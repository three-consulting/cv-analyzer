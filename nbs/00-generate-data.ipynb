{
 "cells": [
  {
   "cell_type": "code",
   "execution_count": 1,
   "metadata": {},
   "outputs": [],
   "source": [
    "import openai\n",
    "import pandas as pd\n",
    "import os\n",
    "from dotenv import load_dotenv"
   ]
  },
  {
   "cell_type": "code",
   "execution_count": 2,
   "metadata": {},
   "outputs": [],
   "source": [
    "load_dotenv()\n",
    "OPENAI_API_KEY = os.environ.get(\"OPENAI_API_KEY\")\n",
    "openai.api_key = OPENAI_API_KEY"
   ]
  },
  {
   "cell_type": "code",
   "execution_count": 22,
   "metadata": {},
   "outputs": [
    {
     "data": {
      "text/plain": [
       "\"I want you to write an example resume for a full-stack with 3 of experience.\\nEmphasize the following skills: ['AWS', 'Azure', 'PostgreSQL', 'Python', 'React', 'Typescript']. Also generate all necessary locations and durations for both work experience and education.\\nAssume it's the year 2023.\\n\""
      ]
     },
     "execution_count": 22,
     "metadata": {},
     "output_type": "execute_result"
    }
   ],
   "source": [
    "cloud = [\"AWS\", \"Azure\", \"GCP\"]\n",
    "infra = [\"Kubernetes\", \"Serverless\"]\n",
    "databases = [\"PostgreSQL\", \"MySQL\", \"SQLite\", \"DynamoDB\", \"MongoDB\"]\n",
    "seniority = \"\"\n",
    "developer_type = \"full-stack\"\n",
    "skills = [\"AWS\", \"Azure\", \"PostgreSQL\", \"Python\", \"React\", \"Typescript\"]\n",
    "number_of_years = 3\n",
    "prompt = f\"\"\"I want you to write an example resume for a {seniority}{developer_type} with {number_of_years} of experience.\n",
    "Emphasize the following skills: {skills}. Also generate all necessary locations and durations for both work experience and education.\n",
    "Assume it's the year 2023.\n",
    "\"\"\"\n",
    "prompt"
   ]
  },
  {
   "cell_type": "code",
   "execution_count": 23,
   "metadata": {},
   "outputs": [],
   "source": [
    "completion = openai.ChatCompletion.create(\n",
    "  model=\"gpt-3.5-turbo\",\n",
    "  messages=[\n",
    "    {\"role\": \"user\", \"content\": prompt}\n",
    "  ]\n",
    ")"
   ]
  },
  {
   "cell_type": "code",
   "execution_count": 24,
   "metadata": {},
   "outputs": [
    {
     "name": "stdout",
     "output_type": "stream",
     "text": [
      "\n",
      "\n",
      "John Smith\n",
      "\n",
      "Full-Stack Developer\n",
      "\n",
      "123 Main Street, Anytown, USA\n",
      "\n",
      "Email: johnsmith@email.com\n",
      "\n",
      "Phone: (555) 555-5555\n",
      "\n",
      "LinkedIn: linkedin.com/in/johnsmith\n",
      "\n",
      "Summary\n",
      "\n",
      "Experienced Full-Stack Developer with extensive knowledge of AWS, Azure, PostgreSQL, Python, React, and Typescript. Adept at developing high-quality applications and solutions that meet customer needs.\n",
      "\n",
      "Professional Experience\n",
      "\n",
      "Full-Stack Developer, ABC Company\n",
      "\n",
      "Seattle, WA\n",
      "\n",
      "May 2021 - Present\n",
      "\n",
      "• Developed and maintained cloud-based applications using AWS and Azure services.\n",
      "\n",
      "• Built and optimized database systems using PostgreSQL.\n",
      "\n",
      "• Designed and implemented back-end solutions using Python.\n",
      "\n",
      "• Developed and maintained front-end components using React and Typescript.\n",
      "\n",
      "• Worked with cross-functional teams to deliver high-quality software on time and within budget.\n",
      "\n",
      "Full-Stack Developer, XYZ Firm\n",
      "\n",
      "Portland, OR\n",
      "\n",
      "December 2018 - May 2021\n",
      "\n",
      "• Collaborated with other developers to build and maintain cloud-based applications using AWS and Azure services.\n",
      "\n",
      "• Built and optimized database systems using PostgreSQL.\n",
      "\n",
      "• Developed back-end solutions using Python.\n",
      "\n",
      "• Worked on front-end user interface and components using React and Typescript.\n",
      "\n",
      "• Conducted code reviews to ensure code quality and maintainability.\n",
      "\n",
      "Education\n",
      "\n",
      "Bachelor of Science in Computer Science, Oregon State University\n",
      "\n",
      "Corvallis, OR\n",
      "\n",
      "September 2014 - June 2018\n",
      "\n",
      "Skills\n",
      "\n",
      "• AWS\n",
      "\n",
      "• Azure\n",
      "\n",
      "• PostgreSQL\n",
      "\n",
      "• Python\n",
      "\n",
      "• React\n",
      "\n",
      "• Typescript\n",
      "\n",
      "• Agile Development\n",
      "\n",
      "• Git\n",
      "\n",
      "• Jira\n",
      "\n",
      "• Linux\n",
      "\n",
      "• MySQL\n",
      "\n",
      "• Node.js\n",
      "\n",
      "• RESTful APIs\n",
      "\n",
      "• Scrum\n",
      "\n",
      "• SQL\n",
      "\n",
      "Certificates\n",
      "\n",
      "• Certified AWS Developer, Amazon Web Services\n",
      "\n",
      "• Certified React Developer, Udemy\n",
      "\n",
      "• Certified Typescript Developer, Udemy\n",
      "\n",
      "Professional References Available Upon Request\n"
     ]
    }
   ],
   "source": [
    "print(completion.choices[0].message.content)"
   ]
  },
  {
   "cell_type": "code",
   "execution_count": 3,
   "metadata": {},
   "outputs": [
    {
     "name": "stdout",
     "output_type": "stream",
     "text": [
      "\n",
      "\n",
      "John Doe\n",
      "Lead Java Developer \n",
      "\n",
      "Professional Summary\n",
      "Highly skilled Lead Java Developer with 10+ years of experience in developing and managing complex web applications. Proficient in Java, AWS, PostgreSQL, DynamoDB, and other related technologies. Successfully led numerous teams to deliver quality software solutions to clients. An analytical thinker with excellent problem-solving skills.\n",
      "\n",
      "Key Skills\n",
      "• Proficient in Java, AWS, PostgreSQL, DynamoDB, and other related technologies\n",
      "• In-depth understanding of web application development\n",
      "• Experienced in leading and managing teams\n",
      "• Strong analytical and problem-solving abilities\n",
      "• Excellent communication and collaboration skills\n",
      "• Adept at working in an Agile environment\n",
      "\n",
      "Professional Experience \n",
      "\n",
      "Lead Java Developer\n",
      "ABC Corporation, New York, NY (2019 - Present)\n",
      "• Managed a team of ten developers responsible for designing, developing and testing mission-critical applications.\n",
      "• Developed web applications using Java, AWS, PostgreSQL, and DynamoDB.\n",
      "• Conducted code reviews and provided technical guidance to the team.\n",
      "• Collaborated with product owners to gather requirements and understand business needs.\n",
      "• Worked with project stakeholders to define project scope, goals, and deliverables.\n",
      "• Successfully delivered projects on time and within budget.\n",
      "\n",
      "Senior Java Developer\n",
      "XYZ Solutions, Boston, MA (2014-2019)\n",
      "• Developed and maintained enterprise-level applications for clients using Java and related technologies.\n",
      "• Worked with teams to design and implement scalable solutions.\n",
      "• Created and maintained technical documentation for applications under development.\n",
      "• Conducted code reviews and provided technical guidance to junior developers.\n",
      "• Developed and maintained efficient databases for web applications using PostgreSQL.\n",
      "\n",
      "Java Developer\n",
      "QRS Technologies, Cambridge, MA (2012-2014)\n",
      "• Designed and developed web applications using Java, Servlets, and JSP.\n",
      "• Coded, tested and debugged software solutions.\n",
      "• Worked collaboratively with development teams on software projects.\n",
      "• Communicated detailed technical specifications to stakeholders.\n",
      "• Established and maintained a continuous integration environment.\n",
      "\n",
      "Education\n",
      "\n",
      "Bachelor of Science in Computer Science\n",
      "Boston University, Boston, MA (2008-2012)\n",
      "\n",
      "Certifications\n",
      "\n",
      "AWS Certified Developer - Associate (2019) \n",
      "Oracle Certified Java SE 8 Programmer (2016)\n",
      "\n",
      "Languages\n",
      "\n",
      "Fluent in English and Spanish\n",
      "\n",
      "References\n",
      "\n",
      "Available on request.\n"
     ]
    }
   ],
   "source": [
    "print(\"\\n\\nJohn Doe\\nLead Java Developer \\n\\nProfessional Summary\\nHighly skilled Lead Java Developer with 10+ years of experience in developing and managing complex web applications. Proficient in Java, AWS, PostgreSQL, DynamoDB, and other related technologies. Successfully led numerous teams to deliver quality software solutions to clients. An analytical thinker with excellent problem-solving skills.\\n\\nKey Skills\\n• Proficient in Java, AWS, PostgreSQL, DynamoDB, and other related technologies\\n• In-depth understanding of web application development\\n• Experienced in leading and managing teams\\n• Strong analytical and problem-solving abilities\\n• Excellent communication and collaboration skills\\n• Adept at working in an Agile environment\\n\\nProfessional Experience \\n\\nLead Java Developer\\nABC Corporation, New York, NY (2019 - Present)\\n• Managed a team of ten developers responsible for designing, developing and testing mission-critical applications.\\n• Developed web applications using Java, AWS, PostgreSQL, and DynamoDB.\\n• Conducted code reviews and provided technical guidance to the team.\\n• Collaborated with product owners to gather requirements and understand business needs.\\n• Worked with project stakeholders to define project scope, goals, and deliverables.\\n• Successfully delivered projects on time and within budget.\\n\\nSenior Java Developer\\nXYZ Solutions, Boston, MA (2014-2019)\\n• Developed and maintained enterprise-level applications for clients using Java and related technologies.\\n• Worked with teams to design and implement scalable solutions.\\n• Created and maintained technical documentation for applications under development.\\n• Conducted code reviews and provided technical guidance to junior developers.\\n• Developed and maintained efficient databases for web applications using PostgreSQL.\\n\\nJava Developer\\nQRS Technologies, Cambridge, MA (2012-2014)\\n• Designed and developed web applications using Java, Servlets, and JSP.\\n• Coded, tested and debugged software solutions.\\n• Worked collaboratively with development teams on software projects.\\n• Communicated detailed technical specifications to stakeholders.\\n• Established and maintained a continuous integration environment.\\n\\nEducation\\n\\nBachelor of Science in Computer Science\\nBoston University, Boston, MA (2008-2012)\\n\\nCertifications\\n\\nAWS Certified Developer - Associate (2019) \\nOracle Certified Java SE 8 Programmer (2016)\\n\\nLanguages\\n\\nFluent in English and Spanish\\n\\nReferences\\n\\nAvailable on request.\")"
   ]
  },
  {
   "cell_type": "code",
   "execution_count": null,
   "metadata": {},
   "outputs": [],
   "source": [
    "\"\\n\\nJohn Doe\\nLead Java Developer \\n\\nProfessional Summary\\nHighly skilled Lead Java Developer with 10+ years of experience in developing and managing complex web applications. Proficient in Java, AWS, PostgreSQL, DynamoDB, and other related technologies. Successfully led numerous teams to deliver quality software solutions to clients. An analytical thinker with excellent problem-solving skills.\\n\\nKey Skills\\n• Proficient in Java, AWS, PostgreSQL, DynamoDB, and other related technologies\\n• In-depth understanding of web application development\\n• Experienced in leading and managing teams\\n• Strong analytical and problem-solving abilities\\n• Excellent communication and collaboration skills\\n• Adept at working in an Agile environment\\n\\nProfessional Experience \\n\\nLead Java Developer\\nABC Corporation, New York, NY (2019 - Present)\\n• Managed a team of ten developers responsible for designing, developing and testing mission-critical applications.\\n• Developed web applications using Java, AWS, PostgreSQL, and DynamoDB.\\n• Conducted code reviews and provided technical guidance to the team.\\n• Collaborated with product owners to gather requirements and understand business needs.\\n• Worked with project stakeholders to define project scope, goals, and deliverables.\\n• Successfully delivered projects on time and within budget.\\n\\nSenior Java Developer\\nXYZ Solutions, Boston, MA (2014-2019)\\n• Developed and maintained enterprise-level applications for clients using Java and related technologies.\\n• Worked with teams to design and implement scalable solutions.\\n• Created and maintained technical documentation for applications under development.\\n• Conducted code reviews and provided technical guidance to junior developers.\\n• Developed and maintained efficient databases for web applications using PostgreSQL.\\n\\nJava Developer\\nQRS Technologies, Cambridge, MA (2012-2014)\\n• Designed and developed web applications using Java, Servlets, and JSP.\\n• Coded, tested and debugged software solutions.\\n• Worked collaboratively with development teams on software projects.\\n• Communicated detailed technical specifications to stakeholders.\\n• Established and maintained a continuous integration environment.\\n\\nEducation\\n\\nBachelor of Science in Computer Science\\nBoston University, Boston, MA (2008-2012)\\n\\nCertifications\\n\\nAWS Certified Developer - Associate (2019) \\nOracle Certified Java SE 8 Programmer (2016)\\n\\nLanguages\\n\\nFluent in English and Spanish\\n\\nReferences\\n\\nAvailable on request.\""
   ]
  }
 ],
 "metadata": {
  "kernelspec": {
   "display_name": "cv-analyser-lCv2CwHS-py3.10",
   "language": "python",
   "name": "python3"
  },
  "language_info": {
   "codemirror_mode": {
    "name": "ipython",
    "version": 3
   },
   "file_extension": ".py",
   "mimetype": "text/x-python",
   "name": "python",
   "nbconvert_exporter": "python",
   "pygments_lexer": "ipython3",
   "version": "3.10.9"
  },
  "orig_nbformat": 4
 },
 "nbformat": 4,
 "nbformat_minor": 2
}
